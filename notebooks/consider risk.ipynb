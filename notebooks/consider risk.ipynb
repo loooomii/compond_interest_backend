{
 "cells": [
  {
   "cell_type": "code",
   "outputs": [],
   "source": [
    "import numpy as np"
   ],
   "metadata": {
    "collapsed": false,
    "ExecuteTime": {
     "end_time": "2024-12-11T14:48:33.465326Z",
     "start_time": "2024-12-11T14:48:33.451736Z"
    }
   },
   "id": "94fd0c3a4bf385b6",
   "execution_count": 4
  },
  {
   "cell_type": "code",
   "execution_count": 5,
   "id": "initial_id",
   "metadata": {
    "collapsed": true,
    "ExecuteTime": {
     "end_time": "2024-12-11T14:48:33.476904Z",
     "start_time": "2024-12-11T14:48:33.470532Z"
    }
   },
   "outputs": [],
   "source": [
    "def generate_confidence_interval(month_num, monthly_rate, monthly_risk, simulation_times=100, df=8):\n",
    "    # 创建一个三维数组来存储所有模拟结果\n",
    "    # 形状为 (simulation_times, month_num, 1)\n",
    "    if monthly_risk == 0:\n",
    "        # 如果没有风险，直接返回确定值\n",
    "        return np.zeros(shape=(month_num, 3)) + monthly_rate\n",
    "    \n",
    "    # 使用t分布进行模拟\n",
    "    all_simulations = monthly_rate + monthly_risk * np.random.standard_t(\n",
    "        df=df, \n",
    "        size=(simulation_times, month_num, 1)\n",
    "    )\n",
    "    \n",
    "    # 计算每个月的统计量\n",
    "    percentile_2_5 = np.percentile(all_simulations, 2.5, axis=0)\n",
    "    mean_values = np.mean(all_simulations, axis=0)\n",
    "    percentile_97_5 = np.percentile(all_simulations, 97.5, axis=0)\n",
    "    \n",
    "    # 组合结果\n",
    "    result = np.concatenate([\n",
    "        percentile_2_5,\n",
    "        mean_values,\n",
    "        percentile_97_5\n",
    "    ], axis=1)\n",
    "    \n",
    "    return result\n"
   ]
  },
  {
   "cell_type": "code",
   "outputs": [
    {
     "name": "stdout",
     "output_type": "stream",
     "text": [
      "矩阵形状: (12, 3)\n",
      "\n",
      "前几个月的结果:\n",
      "月份  2.5%分位数  均值    97.5%分位数\n",
      "1    -0.0184    0.0127    0.0575\n",
      "2    -0.0352    0.0099    0.0515\n",
      "3    -0.0396    0.0089    0.0515\n",
      "4    -0.0293    0.0122    0.0573\n",
      "5    -0.0245    0.0095    0.0506\n"
     ]
    }
   ],
   "source": [
    "# 使用示例\n",
    "month_num = 12\n",
    "monthly_rate = 0.01  # 1%的月收益率\n",
    "monthly_risk = 0.02  # 2%的月波动率\n",
    "\n",
    "excepted_return = generate_confidence_interval(\n",
    "    month_num=month_num,\n",
    "    monthly_rate=monthly_rate,\n",
    "    monthly_risk=monthly_risk,\n",
    "    simulation_times=100,\n",
    "    df=8\n",
    ")\n",
    "\n",
    "# 验证结果\n",
    "print(\"矩阵形状:\", excepted_return.shape)\n",
    "print(\"\\n前几个月的结果:\")\n",
    "print(\"月份  2.5%分位数  均值    97.5%分位数\")\n",
    "for i in range(min(5, month_num)):\n",
    "    print(f\"{i+1}    {excepted_return[i,0]:.4f}    {excepted_return[i,1]:.4f}    {excepted_return[i,2]:.4f}\")"
   ],
   "metadata": {
    "collapsed": false,
    "ExecuteTime": {
     "end_time": "2024-12-11T14:48:33.508350Z",
     "start_time": "2024-12-11T14:48:33.478114Z"
    }
   },
   "id": "f2c46e79c00d1a70",
   "execution_count": 6
  }
 ],
 "metadata": {
  "kernelspec": {
   "display_name": "Python 3",
   "language": "python",
   "name": "python3"
  },
  "language_info": {
   "codemirror_mode": {
    "name": "ipython",
    "version": 2
   },
   "file_extension": ".py",
   "mimetype": "text/x-python",
   "name": "python",
   "nbconvert_exporter": "python",
   "pygments_lexer": "ipython2",
   "version": "2.7.6"
  }
 },
 "nbformat": 4,
 "nbformat_minor": 5
}
