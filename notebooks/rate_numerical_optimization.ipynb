{
 "cells": [
  {
   "cell_type": "code",
   "execution_count": 1,
   "id": "initial_id",
   "metadata": {
    "collapsed": true,
    "ExecuteTime": {
     "end_time": "2024-12-07T05:07:46.350277Z",
     "start_time": "2024-12-07T05:07:45.648896Z"
    }
   },
   "outputs": [],
   "source": [
    "import numpy as np\n",
    "from scipy.optimize import fsolve\n",
    "import time\n"
   ]
  },
  {
   "cell_type": "code",
   "outputs": [],
   "source": [
    "def binary_search_rate(target_value, initial_balance, monthly_investment, months, tolerance=1e-10):\n",
    "    left, right = -0.99, 10.0\n",
    "    \n",
    "    def calc_final_value(r):\n",
    "        if abs(r) < 1e-10:\n",
    "            return initial_balance + monthly_investment * months\n",
    "        return (initial_balance * pow(1 + r, months) + \n",
    "                monthly_investment * (pow(1 + r, months) - 1) / r)\n",
    "    \n",
    "    while right - left > tolerance:\n",
    "        mid = (left + right) / 2\n",
    "        final_value = calc_final_value(mid)\n",
    "        \n",
    "        if (final_value - target_value < tolerance) and final_value >= target_value:\n",
    "            return mid\n",
    "        elif final_value < target_value:\n",
    "            left = mid\n",
    "        else:\n",
    "            right = mid\n",
    "            \n",
    "    return (left + right) / 2\n",
    "\n"
   ],
   "metadata": {
    "collapsed": false,
    "ExecuteTime": {
     "end_time": "2024-12-07T05:14:35.609963Z",
     "start_time": "2024-12-07T05:14:35.598495Z"
    }
   },
   "id": "5440dfb0fb3a2693",
   "execution_count": 6
  },
  {
   "cell_type": "code",
   "outputs": [],
   "source": [
    "def broyden_method(target_value, initial_balance, monthly_investment, months):\n",
    "    def objective(r):\n",
    "        if abs(r) < 1e-10:\n",
    "            return initial_balance + monthly_investment * months - target_value\n",
    "        return (initial_balance * pow(1 + r, months) + \n",
    "                monthly_investment * (pow(1 + r, months) - 1) / r) - target_value\n",
    "    \n",
    "    return fsolve(objective, x0=0.01)[0]"
   ],
   "metadata": {
    "collapsed": false,
    "ExecuteTime": {
     "end_time": "2024-12-07T05:14:37.328394Z",
     "start_time": "2024-12-07T05:14:37.323793Z"
    }
   },
   "id": "d6de15fe8eebb9ea",
   "execution_count": 7
  },
  {
   "cell_type": "code",
   "outputs": [],
   "source": [
    "# 测试参数\n",
    "test_cases = [\n",
    "    (4400, 0, 8, 120),  # 10年\n",
    "    (5000000, 0, 2000, 240),  # 20年\n",
    "    (10000000, 0, 5000, 360)  # 30年\n",
    "]"
   ],
   "metadata": {
    "collapsed": false,
    "ExecuteTime": {
     "end_time": "2024-12-07T05:58:45.222852Z",
     "start_time": "2024-12-07T05:58:45.214965Z"
    }
   },
   "id": "4771b2848af098a8",
   "execution_count": 16
  },
  {
   "cell_type": "code",
   "outputs": [
    {
     "name": "stdout",
     "output_type": "stream",
     "text": [
      "Performance Comparison:\n",
      "--------------------------------------------------\n",
      "Case | Binary Search | Broyden Method\n",
      "--------------------------------------------------\n",
      "4,400 | 0.000032s | 0.000834s\n",
      "Results: 0.021483 vs 0.021483\n",
      "--------------------------------------------------\n",
      "5,000,000 | 0.000022s | 0.000233s\n",
      "Results: 0.015449 vs 0.015449\n",
      "--------------------------------------------------\n",
      "10,000,000 | 0.000020s | 0.000187s\n",
      "Results: 0.007852 vs 0.007852\n",
      "--------------------------------------------------\n"
     ]
    }
   ],
   "source": [
    "# 性能比较\n",
    "print(\"Performance Comparison:\")\n",
    "print(\"-\" * 50)\n",
    "print(\"Case | Binary Search | Broyden Method\")\n",
    "print(\"-\" * 50)\n",
    "\n",
    "for target, initial, monthly, months in test_cases:\n",
    "    # 二分查找\n",
    "    start_time = time.time()\n",
    "    binary_result = binary_search_rate(target, initial, monthly, months)\n",
    "    binary_time = time.time() - start_time\n",
    "    \n",
    "    # Broyden方法\n",
    "    start_time = time.time()\n",
    "    broyden_result = broyden_method(target, initial, monthly, months)\n",
    "    broyden_time = time.time() - start_time\n",
    "    \n",
    "    print(f\"{target:,} | {binary_time:.6f}s | {broyden_time:.6f}s\")\n",
    "    print(f\"Results: {binary_result:.6f} vs {broyden_result:.6f}\")\n",
    "    print(\"-\" * 50)"
   ],
   "metadata": {
    "collapsed": false,
    "ExecuteTime": {
     "end_time": "2024-12-07T05:58:45.998267Z",
     "start_time": "2024-12-07T05:58:45.989366Z"
    }
   },
   "id": "5692b3023f54fe34",
   "execution_count": 17
  },
  {
   "cell_type": "code",
   "outputs": [],
   "source": [],
   "metadata": {
    "collapsed": false
   },
   "id": "d99ed5f3d26e0f09"
  }
 ],
 "metadata": {
  "kernelspec": {
   "display_name": "Python 3",
   "language": "python",
   "name": "python3"
  },
  "language_info": {
   "codemirror_mode": {
    "name": "ipython",
    "version": 2
   },
   "file_extension": ".py",
   "mimetype": "text/x-python",
   "name": "python",
   "nbconvert_exporter": "python",
   "pygments_lexer": "ipython2",
   "version": "2.7.6"
  }
 },
 "nbformat": 4,
 "nbformat_minor": 5
}
