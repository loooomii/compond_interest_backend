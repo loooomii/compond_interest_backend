{
 "cells": [
  {
   "cell_type": "code",
   "execution_count": 2,
   "id": "initial_id",
   "metadata": {
    "collapsed": true,
    "ExecuteTime": {
     "end_time": "2024-12-07T07:42:46.265066Z",
     "start_time": "2024-12-07T07:42:46.258612Z"
    }
   },
   "outputs": [],
   "source": [
    "import numpy as np\n",
    "from scipy.optimize import fsolve\n",
    "import time\n"
   ]
  },
  {
   "cell_type": "code",
   "outputs": [],
   "source": [
    "def binary_search_rate(target_value, initial_balance, monthly_investment, months, tolerance=1e-10):\n",
    "    left, right = -0.99, 10.0\n",
    "    \n",
    "    def calc_final_value(r):\n",
    "        if abs(r) < 1e-10:\n",
    "            return initial_balance + monthly_investment * months\n",
    "        return (initial_balance * pow(1 + r, months) + \n",
    "                monthly_investment * (pow(1 + r, months) - 1) / r)\n",
    "    \n",
    "    while right - left > tolerance:\n",
    "        mid = (left + right) / 2\n",
    "        final_value = calc_final_value(mid)\n",
    "        \n",
    "        if (final_value - target_value < tolerance) and final_value >= target_value:\n",
    "            return mid\n",
    "        elif final_value < target_value:\n",
    "            left = mid\n",
    "        else:\n",
    "            right = mid\n",
    "    monthly_ = (left + right) / 2\n",
    "    annual = pow(1 + monthly_, 12) - 1\n",
    "\n",
    "    return annual\n",
    "\n"
   ],
   "metadata": {
    "collapsed": false,
    "ExecuteTime": {
     "end_time": "2024-12-07T07:43:52.579913Z",
     "start_time": "2024-12-07T07:43:52.570213Z"
    }
   },
   "id": "5440dfb0fb3a2693",
   "execution_count": 7
  },
  {
   "cell_type": "code",
   "outputs": [],
   "source": [
    "def broyden_method(target_value, initial_balance, monthly_investment, months):\n",
    "    def objective(r):\n",
    "        if abs(r) < 1e-10:\n",
    "            return initial_balance + monthly_investment * months - target_value\n",
    "        return (initial_balance * pow(1 + r, months) + \n",
    "                monthly_investment * (pow(1 + r, months) - 1) / r) - target_value\n",
    "    \n",
    "    return fsolve(objective, x0=0.01)[0]"
   ],
   "metadata": {
    "collapsed": false,
    "ExecuteTime": {
     "end_time": "2024-12-07T07:43:54.068834Z",
     "start_time": "2024-12-07T07:43:54.064755Z"
    }
   },
   "id": "d6de15fe8eebb9ea",
   "execution_count": 8
  },
  {
   "cell_type": "code",
   "outputs": [],
   "source": [
    "# 测试参数\n",
    "test_cases = [\n",
    "    (1000, 0, 10, 12),  # 10年\n",
    "    (5000000, 0, 2000, 240),  # 20年\n",
    "    (10000000, 0, 5000, 360)  # 30年\n",
    "]"
   ],
   "metadata": {
    "collapsed": false,
    "ExecuteTime": {
     "end_time": "2024-12-07T07:43:54.629562Z",
     "start_time": "2024-12-07T07:43:54.626460Z"
    }
   },
   "id": "4771b2848af098a8",
   "execution_count": 9
  },
  {
   "cell_type": "code",
   "outputs": [
    {
     "name": "stdout",
     "output_type": "stream",
     "text": [
      "Performance Comparison:\n",
      "--------------------------------------------------\n",
      "Case | Binary Search | Broyden Method\n",
      "--------------------------------------------------\n",
      "1,000 | 0.000052s | 0.001163s\n",
      "Results: 34.709691 vs 0.347097\n",
      "--------------------------------------------------\n",
      "5,000,000 | 0.000030s | 0.000204s\n",
      "Results: 0.201979 vs 0.015449\n",
      "--------------------------------------------------\n",
      "10,000,000 | 0.000027s | 0.000165s\n",
      "Results: 0.098400 vs 0.007852\n",
      "--------------------------------------------------\n"
     ]
    }
   ],
   "source": [
    "# 性能比较\n",
    "print(\"Performance Comparison:\")\n",
    "print(\"-\" * 50)\n",
    "print(\"Case | Binary Search | Broyden Method\")\n",
    "print(\"-\" * 50)\n",
    "\n",
    "for target, initial, monthly, months in test_cases:\n",
    "    # 二分查找\n",
    "    start_time = time.time()\n",
    "    binary_result = binary_search_rate(target, initial, monthly, months)\n",
    "    binary_time = time.time() - start_time\n",
    "    \n",
    "    # Broyden方法\n",
    "    start_time = time.time()\n",
    "    broyden_result = broyden_method(target, initial, monthly, months)\n",
    "    broyden_time = time.time() - start_time\n",
    "    \n",
    "    print(f\"{target:,} | {binary_time:.6f}s | {broyden_time:.6f}s\")\n",
    "    print(f\"Results: {binary_result:.6f} vs {broyden_result:.6f}\")\n",
    "    print(\"-\" * 50)"
   ],
   "metadata": {
    "collapsed": false,
    "ExecuteTime": {
     "end_time": "2024-12-07T07:43:56.338452Z",
     "start_time": "2024-12-07T07:43:56.329914Z"
    }
   },
   "id": "5692b3023f54fe34",
   "execution_count": 10
  },
  {
   "cell_type": "code",
   "outputs": [],
   "source": [],
   "metadata": {
    "collapsed": false
   },
   "id": "d99ed5f3d26e0f09"
  }
 ],
 "metadata": {
  "kernelspec": {
   "display_name": "Python 3",
   "language": "python",
   "name": "python3"
  },
  "language_info": {
   "codemirror_mode": {
    "name": "ipython",
    "version": 2
   },
   "file_extension": ".py",
   "mimetype": "text/x-python",
   "name": "python",
   "nbconvert_exporter": "python",
   "pygments_lexer": "ipython2",
   "version": "2.7.6"
  }
 },
 "nbformat": 4,
 "nbformat_minor": 5
}
